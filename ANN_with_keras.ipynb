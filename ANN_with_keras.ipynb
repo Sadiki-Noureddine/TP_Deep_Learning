{
 "cells": [
  {
   "cell_type": "markdown",
   "metadata": {},
   "source": [
    "# Artificial Neural Networks with Keras"
   ]
  },
  {
   "cell_type": "markdown",
   "metadata": {},
   "source": [
    "<table align=\"left\">\n",
    "  <td>\n",
    "    <a target=\"_blank\" href=\"https://colab.research.google.com/github/AbdelMahm/INPT-2020/blob/master/Notebooks_DL/ANN_with_keras.ipynb\"><img src=\"https://colab.research.google.com/img/colab_favicon_256px.png\" />Run in Google Colab</a>\n",
    "  </td>\n",
    "</table>"
   ]
  },
  {
   "cell_type": "markdown",
   "metadata": {},
   "source": [
    "# Setup"
   ]
  },
  {
   "cell_type": "markdown",
   "metadata": {},
   "source": [
    "First, let's import a few common modules, ensure MatplotLib plots figures inline and prepare a function to save the figures. We also check that Python 3.5 or later is installed (although Python 2.x may work, it is deprecated so we strongly recommend you use Python 3 instead), as well as Scikit-Learn ≥0.20 and TensorFlow ≥2.0."
   ]
  },
  {
   "cell_type": "code",
   "execution_count": 3,
   "metadata": {},
   "outputs": [],
   "source": [
    "# TensorFlow ≥2.0 is required\n",
    "import tensorflow as tf\n",
    "\n",
    "# Common imports\n",
    "import numpy as np\n",
    "import os\n",
    "\n",
    "# to make this notebook's output stable across runs\n",
    "np.random.seed(42)\n",
    "\n",
    "# To plot pretty figures\n",
    "%matplotlib inline\n",
    "import matplotlib as mpl\n",
    "import matplotlib.pyplot as plt\n",
    "mpl.rc('axes', labelsize=14)\n",
    "mpl.rc('xtick', labelsize=12)\n",
    "mpl.rc('ytick', labelsize=12)\n",
    "\n",
    "# Ignore useless warnings (see SciPy issue #5998)\n",
    "import warnings\n",
    "warnings.filterwarnings(action=\"ignore\", message=\"^internal gelsd\")"
   ]
  },
  {
   "cell_type": "markdown",
   "metadata": {},
   "source": [
    "# Building an Image Classifier"
   ]
  },
  {
   "cell_type": "markdown",
   "metadata": {},
   "source": [
    "First let's import TensorFlow and Keras."
   ]
  },
  {
   "cell_type": "code",
   "execution_count": 4,
   "metadata": {},
   "outputs": [],
   "source": [
    "import tensorflow as tf\n",
    "from tensorflow import keras"
   ]
  },
  {
   "cell_type": "code",
   "execution_count": 5,
   "metadata": {},
   "outputs": [
    {
     "data": {
      "text/plain": [
       "'2.1.0'"
      ]
     },
     "execution_count": 5,
     "metadata": {},
     "output_type": "execute_result"
    }
   ],
   "source": [
    "tf.__version__"
   ]
  },
  {
   "cell_type": "markdown",
   "metadata": {},
   "source": [
    "Let's start by loading the fashion MNIST dataset. Keras has a number of functions to load popular datasets in `keras.datasets`. The dataset is already split for you between a training set and a test set, but it can be useful to split the training set further to have a validation set:"
   ]
  },
  {
   "cell_type": "code",
   "execution_count": 6,
   "metadata": {},
   "outputs": [],
   "source": [
    "fashion_mnist = keras.datasets.fashion_mnist\n",
    "(X_train_full, y_train_full), (X_test, y_test) = fashion_mnist.load_data()"
   ]
  },
  {
   "cell_type": "markdown",
   "metadata": {},
   "source": [
    "The training set contains 60,000 grayscale images, each 28x28 pixels:"
   ]
  },
  {
   "cell_type": "code",
   "execution_count": 7,
   "metadata": {},
   "outputs": [
    {
     "data": {
      "text/plain": [
       "(60000, 28, 28)"
      ]
     },
     "execution_count": 7,
     "metadata": {},
     "output_type": "execute_result"
    }
   ],
   "source": [
    "X_train_full.shape"
   ]
  },
  {
   "cell_type": "markdown",
   "metadata": {},
   "source": [
    "Each pixel intensity is represented as a byte (0 to 255):"
   ]
  },
  {
   "cell_type": "code",
   "execution_count": 8,
   "metadata": {},
   "outputs": [
    {
     "data": {
      "text/plain": [
       "dtype('uint8')"
      ]
     },
     "execution_count": 8,
     "metadata": {},
     "output_type": "execute_result"
    }
   ],
   "source": [
    "X_train_full.dtype"
   ]
  },
  {
   "cell_type": "markdown",
   "metadata": {},
   "source": [
    "Let's split the full training set into a validation set and a (smaller) training set. We also scale the pixel intensities down to the 0-1 range and convert them to floats, by dividing by 255."
   ]
  },
  {
   "cell_type": "code",
   "execution_count": 9,
   "metadata": {},
   "outputs": [],
   "source": [
    "X_valid, X_train = X_train_full[:5000] / 255., X_train_full[5000:] / 255.\n",
    "y_valid, y_train = y_train_full[:5000], y_train_full[5000:]\n",
    "X_test = X_test / 255."
   ]
  },
  {
   "cell_type": "markdown",
   "metadata": {},
   "source": [
    "You can plot an image using Matplotlib's `imshow()` function, with a `'binary'`\n",
    " color map:"
   ]
  },
  {
   "cell_type": "code",
   "execution_count": 10,
   "metadata": {},
   "outputs": [
    {
     "data": {
      "image/png": "[encoded data removed]",
      "text/plain": [
       "<Figure size 432x288 with 1 Axes>"
      ]
     },
     "metadata": {
      "needs_background": "light"
     },
     "output_type": "display_data"
    }
   ],
   "source": [
    "plt.imshow(X_train[0], cmap=\"binary\")\n",
    "plt.axis('off')\n",
    "plt.show()"
   ]
  },
  {
   "cell_type": "markdown",
   "metadata": {},
   "source": [
    "The labels are the class IDs (represented as uint8), from 0 to 9:"
   ]
  },
  {
   "cell_type": "code",
   "execution_count": 11,
   "metadata": {},
   "outputs": [
    {
     "data": {
      "text/plain": [
       "array([4, 0, 7, ..., 3, 0, 5], dtype=uint8)"
      ]
     },
     "execution_count": 11,
     "metadata": {},
     "output_type": "execute_result"
    }
   ],
   "source": [
    "y_train"
   ]
  },
  {
   "cell_type": "markdown",
   "metadata": {},
   "source": [
    "Here are the corresponding class names:"
   ]
  },
  {
   "cell_type": "code",
   "execution_count": 12,
   "metadata": {},
   "outputs": [],
   "source": [
    "class_names = [\"T-shirt/top\", \"Trouser\", \"Pullover\", \"Dress\", \"Coat\",\n",
    "               \"Sandal\", \"Shirt\", \"Sneaker\", \"Bag\", \"Ankle boot\"]"
   ]
  },
  {
   "cell_type": "markdown",
   "metadata": {},
   "source": [
    "So the first image in the training set is a coat:"
   ]
  },
  {
   "cell_type": "code",
   "execution_count": 13,
   "metadata": {},
   "outputs": [
    {
     "data": {
      "text/plain": [
       "'Coat'"
      ]
     },
     "execution_count": 13,
     "metadata": {},
     "output_type": "execute_result"
    }
   ],
   "source": [
    "class_names[y_train[0]]"
   ]
  },
  {
   "cell_type": "markdown",
   "metadata": {},
   "source": [
    "The validation set contains 5,000 images, and the test set contains 10,000 images:"
   ]
  },
  {
   "cell_type": "code",
   "execution_count": 14,
   "metadata": {},
   "outputs": [
    {
     "data": {
      "text/plain": [
       "(5000, 28, 28)"
      ]
     },
     "execution_count": 14,
     "metadata": {},
     "output_type": "execute_result"
    }
   ],
   "source": [
    "X_valid.shape"
   ]
  },
  {
   "cell_type": "code",
   "execution_count": 15,
   "metadata": {},
   "outputs": [
    {
     "data": {
      "text/plain": [
       "(10000, 28, 28)"
      ]
     },
     "execution_count": 15,
     "metadata": {},
     "output_type": "execute_result"
    }
   ],
   "source": [
    "X_test.shape"
   ]
  },
  {
   "cell_type": "markdown",
   "metadata": {},
   "source": [
    "Let's take a look at a sample of the images in the dataset:"
   ]
  },
  {
   "cell_type": "code",
   "execution_count": 16,
   "metadata": {},
   "outputs": [
    {
     "data": {
      "image/png": "[encoded data removed]",
      "text/plain": [
       "<Figure size 864x345.6 with 40 Axes>"
      ]
     },
     "metadata": {
      "needs_background": "light"
     },
     "output_type": "display_data"
    }
   ],
   "source": [
    "n_rows = 4\n",
    "n_cols = 10\n",
    "plt.figure(figsize=(n_cols * 1.2, n_rows * 1.2))\n",
    "for row in range(n_rows):\n",
    "    for col in range(n_cols):\n",
    "        index = n_cols * row + col\n",
    "        plt.subplot(n_rows, n_cols, index + 1)\n",
    "        plt.imshow(X_train[index], cmap=\"binary\", interpolation=\"nearest\")\n",
    "        plt.axis('off')\n",
    "        plt.title(class_names[y_train[index]], fontsize=12)\n",
    "plt.subplots_adjust(wspace=0.2, hspace=0.5)\n",
    "plt.show()"
   ]
  },
  {
   "cell_type": "markdown",
   "metadata": {},
   "source": [
    "## Construct a Model"
   ]
  },
  {
   "cell_type": "code",
   "execution_count": 17,
   "metadata": {},
   "outputs": [],
   "source": [
    "model = keras.models.Sequential()\n",
    "model.add(keras.layers.Flatten(input_shape=[28, 28]))\n",
    "model.add(keras.layers.Dense(300, activation=\"relu\"))\n",
    "model.add(keras.layers.Dense(100, activation=\"relu\"))\n",
    "model.add(keras.layers.Dense(10, activation=\"softmax\"))"
   ]
  },
  {
   "cell_type": "code",
   "execution_count": 18,
   "metadata": {},
   "outputs": [],
   "source": [
    "keras.backend.clear_session()\n",
    "np.random.seed(42)"
   ]
  },
  {
   "cell_type": "markdown",
   "metadata": {},
   "source": [
    "### or using the folowing method"
   ]
  },
  {
   "cell_type": "code",
   "execution_count": 19,
   "metadata": {},
   "outputs": [],
   "source": [
    "model = keras.models.Sequential([\n",
    "    keras.layers.Flatten(input_shape=[28, 28]),\n",
    "    keras.layers.Dense(300, activation=\"relu\"),\n",
    "    keras.layers.Dense(100, activation=\"relu\"),\n",
    "    keras.layers.Dense(10, activation=\"softmax\")\n",
    "])"
   ]
  },
  {
   "cell_type": "code",
   "execution_count": 20,
   "metadata": {},
   "outputs": [
    {
     "data": {
      "text/plain": [
       "[<tensorflow.python.keras.layers.core.Flatten at 0x21d6b9cfac8>,\n",
       " <tensorflow.python.keras.layers.core.Dense at 0x21d6b9cfc08>,\n",
       " <tensorflow.python.keras.layers.core.Dense at 0x21d6b9cfec8>,\n",
       " <tensorflow.python.keras.layers.core.Dense at 0x21d6b9d3148>]"
      ]
     },
     "execution_count": 20,
     "metadata": {},
     "output_type": "execute_result"
    }
   ],
   "source": [
    "model.layers"
   ]
  },
  {
   "cell_type": "code",
   "execution_count": 21,
   "metadata": {},
   "outputs": [
    {
     "name": "stdout",
     "output_type": "stream",
     "text": [
      "Model: \"sequential\"\n",
      "_________________________________________________________________\n",
      "Layer (type)                 Output Shape              Param #   \n",
      "=================================================================\n",
      "flatten (Flatten)            (None, 784)               0         \n",
      "_________________________________________________________________\n",
      "dense (Dense)                (None, 300)               235500    \n",
      "_________________________________________________________________\n",
      "dense_1 (Dense)              (None, 100)               30100     \n",
      "_________________________________________________________________\n",
      "dense_2 (Dense)              (None, 10)                1010      \n",
      "=================================================================\n",
      "Total params: 266,610\n",
      "Trainable params: 266,610\n",
      "Non-trainable params: 0\n",
      "_________________________________________________________________\n"
     ]
    }
   ],
   "source": [
    "model.summary()"
   ]
  },
  {
   "cell_type": "code",
   "execution_count": 22,
   "metadata": {},
   "outputs": [],
   "source": [
    "#keras.utils.plot_model(model, \"my_mnist_model.png\", show_shapes=True)"
   ]
  },
  {
   "cell_type": "code",
   "execution_count": 23,
   "metadata": {},
   "outputs": [
    {
     "data": {
      "text/plain": [
       "'dense'"
      ]
     },
     "execution_count": 23,
     "metadata": {},
     "output_type": "execute_result"
    }
   ],
   "source": [
    "hidden1 = model.layers[1]\n",
    "hidden1.name"
   ]
  },
  {
   "cell_type": "code",
   "execution_count": 24,
   "metadata": {},
   "outputs": [
    {
     "data": {
      "text/plain": [
       "True"
      ]
     },
     "execution_count": 24,
     "metadata": {},
     "output_type": "execute_result"
    }
   ],
   "source": [
    "model.get_layer(hidden1.name) is hidden1"
   ]
  },
  {
   "cell_type": "code",
   "execution_count": 25,
   "metadata": {},
   "outputs": [],
   "source": [
    "weights, biases = hidden1.get_weights()"
   ]
  },
  {
   "cell_type": "code",
   "execution_count": 26,
   "metadata": {},
   "outputs": [
    {
     "data": {
      "text/plain": [
       "array([[ 0.00290351,  0.05741093,  0.05909473, ..., -0.01621252,\n",
       "        -0.02576407, -0.04767506],\n",
       "       [-0.00629289,  0.04663119,  0.01180778, ..., -0.01155263,\n",
       "         0.02364795,  0.02793813],\n",
       "       [-0.03031524,  0.00749741,  0.04913435, ..., -0.01556965,\n",
       "        -0.03069037, -0.00728951],\n",
       "       ...,\n",
       "       [ 0.03784373,  0.01896499,  0.06259419, ...,  0.03297378,\n",
       "        -0.05272627,  0.03889252],\n",
       "       [ 0.00261343, -0.0089236 ,  0.01802199, ...,  0.04833872,\n",
       "        -0.06217077, -0.03868649],\n",
       "       [-0.01036055, -0.07369399, -0.01652423, ...,  0.04903881,\n",
       "         0.02830631,  0.06279892]], dtype=float32)"
      ]
     },
     "execution_count": 26,
     "metadata": {},
     "output_type": "execute_result"
    }
   ],
   "source": [
    "weights"
   ]
  },
  {
   "cell_type": "code",
   "execution_count": 29,
   "metadata": {},
   "outputs": [
    {
     "data": {
      "text/plain": [
       "(784, 300)"
      ]
     },
     "execution_count": 29,
     "metadata": {},
     "output_type": "execute_result"
    }
   ],
   "source": [
    "weights.shape"
   ]
  },
  {
   "cell_type": "code",
   "execution_count": 30,
   "metadata": {},
   "outputs": [
    {
     "data": {
      "text/plain": [
       "array([0., 0., 0., 0., 0., 0., 0., 0., 0., 0., 0., 0., 0., 0., 0., 0., 0.,\n",
       "       0., 0., 0., 0., 0., 0., 0., 0., 0., 0., 0., 0., 0., 0., 0., 0., 0.,\n",
       "       0., 0., 0., 0., 0., 0., 0., 0., 0., 0., 0., 0., 0., 0., 0., 0., 0.,\n",
       "       0., 0., 0., 0., 0., 0., 0., 0., 0., 0., 0., 0., 0., 0., 0., 0., 0.,\n",
       "       0., 0., 0., 0., 0., 0., 0., 0., 0., 0., 0., 0., 0., 0., 0., 0., 0.,\n",
       "       0., 0., 0., 0., 0., 0., 0., 0., 0., 0., 0., 0., 0., 0., 0., 0., 0.,\n",
       "       0., 0., 0., 0., 0., 0., 0., 0., 0., 0., 0., 0., 0., 0., 0., 0., 0.,\n",
       "       0., 0., 0., 0., 0., 0., 0., 0., 0., 0., 0., 0., 0., 0., 0., 0., 0.,\n",
       "       0., 0., 0., 0., 0., 0., 0., 0., 0., 0., 0., 0., 0., 0., 0., 0., 0.,\n",
       "       0., 0., 0., 0., 0., 0., 0., 0., 0., 0., 0., 0., 0., 0., 0., 0., 0.,\n",
       "       0., 0., 0., 0., 0., 0., 0., 0., 0., 0., 0., 0., 0., 0., 0., 0., 0.,\n",
       "       0., 0., 0., 0., 0., 0., 0., 0., 0., 0., 0., 0., 0., 0., 0., 0., 0.,\n",
       "       0., 0., 0., 0., 0., 0., 0., 0., 0., 0., 0., 0., 0., 0., 0., 0., 0.,\n",
       "       0., 0., 0., 0., 0., 0., 0., 0., 0., 0., 0., 0., 0., 0., 0., 0., 0.,\n",
       "       0., 0., 0., 0., 0., 0., 0., 0., 0., 0., 0., 0., 0., 0., 0., 0., 0.,\n",
       "       0., 0., 0., 0., 0., 0., 0., 0., 0., 0., 0., 0., 0., 0., 0., 0., 0.,\n",
       "       0., 0., 0., 0., 0., 0., 0., 0., 0., 0., 0., 0., 0., 0., 0., 0., 0.,\n",
       "       0., 0., 0., 0., 0., 0., 0., 0., 0., 0., 0.], dtype=float32)"
      ]
     },
     "execution_count": 30,
     "metadata": {},
     "output_type": "execute_result"
    }
   ],
   "source": [
    "biases"
   ]
  },
  {
   "cell_type": "code",
   "execution_count": 31,
   "metadata": {},
   "outputs": [
    {
     "data": {
      "text/plain": [
       "(300,)"
      ]
     },
     "execution_count": 31,
     "metadata": {},
     "output_type": "execute_result"
    }
   ],
   "source": [
    "biases.shape"
   ]
  },
  {
   "cell_type": "markdown",
   "metadata": {},
   "source": [
    "### Compile the Model\n",
    "Here you can chose the loss function, the optimizer, the performance metric, etc. check Keras documentation for further details."
   ]
  },
  {
   "cell_type": "code",
   "execution_count": 32,
   "metadata": {},
   "outputs": [],
   "source": [
    "model.compile(loss=\"sparse_categorical_crossentropy\",\n",
    "              optimizer=\"sgd\",\n",
    "              metrics=[\"accuracy\"])"
   ]
  },
  {
   "cell_type": "markdown",
   "metadata": {},
   "source": [
    "This is equivalent to:"
   ]
  },
  {
   "cell_type": "markdown",
   "metadata": {},
   "source": [
    "```python\n",
    "model.compile(loss=keras.losses.sparse_categorical_crossentropy,\n",
    "              optimizer=keras.optimizers.SGD(),\n",
    "              metrics=[keras.metrics.sparse_categorical_accuracy])\n",
    "```"
   ]
  },
  {
   "cell_type": "markdown",
   "metadata": {},
   "source": [
    "### Train the model\n",
    "Here you can chose how many epochs you need and the batch size."
   ]
  },
  {
   "cell_type": "code",
   "execution_count": 33,
   "metadata": {},
   "outputs": [
    {
     "name": "stdout",
     "output_type": "stream",
     "text": [
      "Train on 55000 samples, validate on 5000 samples\n",
      "Epoch 1/30\n",
      "55000/55000 [==============================] - 11s 191us/sample - loss: 0.7156 - accuracy: 0.7646 - val_loss: 0.5106 - val_accuracy: 0.8286\n",
      "Epoch 2/30\n",
      "55000/55000 [==============================] - 9s 157us/sample - loss: 0.4877 - accuracy: 0.8296 - val_loss: 0.4458 - val_accuracy: 0.8510\n",
      "Epoch 3/30\n",
      "55000/55000 [==============================] - 8s 149us/sample - loss: 0.4440 - accuracy: 0.8441 - val_loss: 0.4157 - val_accuracy: 0.8582\n",
      "Epoch 4/30\n",
      "55000/55000 [==============================] - 8s 145us/sample - loss: 0.4162 - accuracy: 0.8541 - val_loss: 0.4129 - val_accuracy: 0.8540\n",
      "Epoch 5/30\n",
      "55000/55000 [==============================] - 8s 145us/sample - loss: 0.3964 - accuracy: 0.8613 - val_loss: 0.3809 - val_accuracy: 0.8648\n",
      "Epoch 6/30\n",
      "55000/55000 [==============================] - 8s 151us/sample - loss: 0.3807 - accuracy: 0.8662 - val_loss: 0.3732 - val_accuracy: 0.8752\n",
      "Epoch 7/30\n",
      "55000/55000 [==============================] - 8s 144us/sample - loss: 0.3673 - accuracy: 0.8714 - val_loss: 0.3624 - val_accuracy: 0.8734\n",
      "Epoch 8/30\n",
      "55000/55000 [==============================] - 8s 146us/sample - loss: 0.3556 - accuracy: 0.8743 - val_loss: 0.3686 - val_accuracy: 0.8718\n",
      "Epoch 9/30\n",
      "55000/55000 [==============================] - 8s 138us/sample - loss: 0.3462 - accuracy: 0.8777 - val_loss: 0.3449 - val_accuracy: 0.8790\n",
      "Epoch 10/30\n",
      "55000/55000 [==============================] - 8s 138us/sample - loss: 0.3362 - accuracy: 0.8818 - val_loss: 0.3472 - val_accuracy: 0.8788\n",
      "Epoch 11/30\n",
      "55000/55000 [==============================] - 7s 135us/sample - loss: 0.3281 - accuracy: 0.8843 - val_loss: 0.3966 - val_accuracy: 0.8568\n",
      "Epoch 12/30\n",
      "55000/55000 [==============================] - 8s 143us/sample - loss: 0.3191 - accuracy: 0.8859 - val_loss: 0.3316 - val_accuracy: 0.8822\n",
      "Epoch 13/30\n",
      "55000/55000 [==============================] - 9s 157us/sample - loss: 0.3118 - accuracy: 0.8889 - val_loss: 0.3309 - val_accuracy: 0.8794\n",
      "Epoch 14/30\n",
      "55000/55000 [==============================] - 8s 153us/sample - loss: 0.3057 - accuracy: 0.8913 - val_loss: 0.3329 - val_accuracy: 0.8804\n",
      "Epoch 15/30\n",
      "55000/55000 [==============================] - 8s 151us/sample - loss: 0.2988 - accuracy: 0.8936 - val_loss: 0.3189 - val_accuracy: 0.8884\n",
      "Epoch 16/30\n",
      "55000/55000 [==============================] - 8s 148us/sample - loss: 0.2917 - accuracy: 0.8953 - val_loss: 0.3236 - val_accuracy: 0.8846\n",
      "Epoch 17/30\n",
      "55000/55000 [==============================] - 10s 173us/sample - loss: 0.2872 - accuracy: 0.8970 - val_loss: 0.3373 - val_accuracy: 0.8796\n",
      "Epoch 18/30\n",
      "55000/55000 [==============================] - 10s 174us/sample - loss: 0.2821 - accuracy: 0.8989 - val_loss: 0.3127 - val_accuracy: 0.8890\n",
      "Epoch 19/30\n",
      "55000/55000 [==============================] - 11s 195us/sample - loss: 0.2766 - accuracy: 0.9012 - val_loss: 0.3202 - val_accuracy: 0.8842\n",
      "Epoch 20/30\n",
      "55000/55000 [==============================] - 9s 160us/sample - loss: 0.2708 - accuracy: 0.9021 - val_loss: 0.3197 - val_accuracy: 0.8888\n",
      "Epoch 21/30\n",
      "55000/55000 [==============================] - 9s 157us/sample - loss: 0.2645 - accuracy: 0.9050 - val_loss: 0.3156 - val_accuracy: 0.8880\n",
      "Epoch 22/30\n",
      "55000/55000 [==============================] - 9s 156us/sample - loss: 0.2616 - accuracy: 0.9064 - val_loss: 0.3013 - val_accuracy: 0.8920\n",
      "Epoch 23/30\n",
      "55000/55000 [==============================] - 9s 161us/sample - loss: 0.2566 - accuracy: 0.9078 - val_loss: 0.3107 - val_accuracy: 0.8880\n",
      "Epoch 24/30\n",
      "55000/55000 [==============================] - 9s 159us/sample - loss: 0.2528 - accuracy: 0.9095 - val_loss: 0.2948 - val_accuracy: 0.8966\n",
      "Epoch 25/30\n",
      "55000/55000 [==============================] - 8s 152us/sample - loss: 0.2478 - accuracy: 0.9111 - val_loss: 0.3174 - val_accuracy: 0.8864\n",
      "Epoch 26/30\n",
      "55000/55000 [==============================] - 8s 151us/sample - loss: 0.2435 - accuracy: 0.9124 - val_loss: 0.2985 - val_accuracy: 0.8914\n",
      "Epoch 27/30\n",
      "55000/55000 [==============================] - 9s 167us/sample - loss: 0.2392 - accuracy: 0.9151 - val_loss: 0.3040 - val_accuracy: 0.8918\n",
      "Epoch 28/30\n",
      "55000/55000 [==============================] - 8s 146us/sample - loss: 0.2349 - accuracy: 0.9157 - val_loss: 0.3055 - val_accuracy: 0.8930\n",
      "Epoch 29/30\n",
      "55000/55000 [==============================] - 8s 139us/sample - loss: 0.2320 - accuracy: 0.9171 - val_loss: 0.3007 - val_accuracy: 0.8950\n",
      "Epoch 30/30\n",
      "55000/55000 [==============================] - 7s 127us/sample - loss: 0.2274 - accuracy: 0.9188 - val_loss: 0.3333 - val_accuracy: 0.8864\n"
     ]
    }
   ],
   "source": [
    "history = model.fit(X_train, y_train, batch_size=32, epochs=30,\n",
    "                    validation_data=(X_valid, y_valid))"
   ]
  },
  {
   "cell_type": "code",
   "execution_count": 34,
   "metadata": {},
   "outputs": [
    {
     "data": {
      "text/plain": [
       "{'batch_size': 32,\n",
       " 'epochs': 30,\n",
       " 'steps': 1719,\n",
       " 'samples': 55000,\n",
       " 'verbose': 0,\n",
       " 'do_validation': True,\n",
       " 'metrics': ['loss', 'accuracy', 'val_loss', 'val_accuracy']}"
      ]
     },
     "execution_count": 34,
     "metadata": {},
     "output_type": "execute_result"
    }
   ],
   "source": [
    "history.params"
   ]
  },
  {
   "cell_type": "code",
   "execution_count": 35,
   "metadata": {},
   "outputs": [
    {
     "name": "stdout",
     "output_type": "stream",
     "text": [
      "[0, 1, 2, 3, 4, 5, 6, 7, 8, 9, 10, 11, 12, 13, 14, 15, 16, 17, 18, 19, 20, 21, 22, 23, 24, 25, 26, 27, 28, 29]\n"
     ]
    }
   ],
   "source": [
    "print(history.epoch)"
   ]
  },
  {
   "cell_type": "code",
   "execution_count": 36,
   "metadata": {},
   "outputs": [
    {
     "data": {
      "text/plain": [
       "dict_keys(['loss', 'accuracy', 'val_loss', 'val_accuracy'])"
      ]
     },
     "execution_count": 36,
     "metadata": {},
     "output_type": "execute_result"
    }
   ],
   "source": [
    "history.history.keys()"
   ]
  },
  {
   "cell_type": "markdown",
   "metadata": {},
   "source": [
    "### Plot learning Curves"
   ]
  },
  {
   "cell_type": "code",
   "execution_count": 37,
   "metadata": {},
   "outputs": [
    {
     "data": {
      "image/png": "[encoded data removed]",
      "text/plain": [
       "<Figure size 576x360 with 1 Axes>"
      ]
     },
     "metadata": {
      "needs_background": "light"
     },
     "output_type": "display_data"
    }
   ],
   "source": [
    "import pandas as pd\n",
    "\n",
    "pd.DataFrame(history.history).plot(figsize=(8, 5))\n",
    "plt.grid(True)\n",
    "plt.gca().set_ylim(0, 1)\n",
    "plt.show()"
   ]
  },
  {
   "cell_type": "code",
   "execution_count": 38,
   "metadata": {},
   "outputs": [
    {
     "name": "stdout",
     "output_type": "stream",
     "text": [
      "10000/10000 [==============================] - 1s 71us/sample - loss: 0.3605 - accuracy: 0.8730\n"
     ]
    },
    {
     "data": {
      "text/plain": [
       "[0.3604803295016289, 0.873]"
      ]
     },
     "execution_count": 38,
     "metadata": {},
     "output_type": "execute_result"
    }
   ],
   "source": [
    "model.evaluate(X_test, y_test)"
   ]
  },
  {
   "cell_type": "code",
   "execution_count": 39,
   "metadata": {},
   "outputs": [
    {
     "data": {
      "text/plain": [
       "array([[0.  , 0.  , 0.  , 0.  , 0.  , 0.  , 0.  , 0.01, 0.  , 0.99],\n",
       "       [0.  , 0.  , 0.99, 0.  , 0.01, 0.  , 0.  , 0.  , 0.  , 0.  ],\n",
       "       [0.  , 1.  , 0.  , 0.  , 0.  , 0.  , 0.  , 0.  , 0.  , 0.  ]],\n",
       "      dtype=float32)"
      ]
     },
     "execution_count": 39,
     "metadata": {},
     "output_type": "execute_result"
    }
   ],
   "source": [
    "X_new = X_test[:3]\n",
    "y_proba = model.predict(X_new)\n",
    "y_proba.round(2)"
   ]
  },
  {
   "cell_type": "code",
   "execution_count": 40,
   "metadata": {},
   "outputs": [
    {
     "data": {
      "text/plain": [
       "array([9, 2, 1], dtype=int64)"
      ]
     },
     "execution_count": 40,
     "metadata": {},
     "output_type": "execute_result"
    }
   ],
   "source": [
    "y_pred = model.predict_classes(X_new)\n",
    "y_pred"
   ]
  },
  {
   "cell_type": "code",
   "execution_count": 41,
   "metadata": {},
   "outputs": [
    {
     "data": {
      "text/plain": [
       "array(['Ankle boot', 'Pullover', 'Trouser'], dtype='<U11')"
      ]
     },
     "execution_count": 41,
     "metadata": {},
     "output_type": "execute_result"
    }
   ],
   "source": [
    "np.array(class_names)[y_pred]"
   ]
  },
  {
   "cell_type": "code",
   "execution_count": 42,
   "metadata": {},
   "outputs": [
    {
     "data": {
      "text/plain": [
       "array([9, 2, 1], dtype=uint8)"
      ]
     },
     "execution_count": 42,
     "metadata": {},
     "output_type": "execute_result"
    }
   ],
   "source": [
    "y_new = y_test[:3]\n",
    "y_new"
   ]
  },
  {
   "cell_type": "code",
   "execution_count": 43,
   "metadata": {},
   "outputs": [
    {
     "data": {
      "image/png": "[encoded data removed]",
      "text/plain": [
       "<Figure size 518.4x172.8 with 3 Axes>"
      ]
     },
     "metadata": {
      "needs_background": "light"
     },
     "output_type": "display_data"
    }
   ],
   "source": [
    "plt.figure(figsize=(7.2, 2.4))\n",
    "for index, image in enumerate(X_new):\n",
    "    plt.subplot(1, 3, index + 1)\n",
    "    plt.imshow(image, cmap=\"binary\", interpolation=\"nearest\")\n",
    "    plt.axis('off')\n",
    "    plt.title(class_names[y_test[index]], fontsize=12)\n",
    "plt.subplots_adjust(wspace=0.2, hspace=0.5)\n",
    "plt.show()"
   ]
  },
  {
   "cell_type": "markdown",
   "metadata": {
    "collapsed": true
   },
   "source": [
    "## Exercise"
   ]
  },
  {
   "cell_type": "markdown",
   "metadata": {},
   "source": [
    "#### 1) Plot Learning curves when using different optimizers\n",
    "#### 2) Plot Learning curves when using different batch size\n",
    "#### 3) Plot Learning curves when using different number of epochs\n",
    "#### 4) repeat with more layers\n",
    "#### 5) apply on different datasets"
   ]
  },
  {
   "cell_type": "markdown",
   "metadata": {
    "collapsed": true
   },
   "source": [
    "# CORRECTION"
   ]
  },
  {
   "cell_type": "markdown",
   "metadata": {},
   "source": [
    "# 1) Different optimizers\n"
   ]
  },
  {
   "cell_type": "markdown",
   "metadata": {},
   "source": [
    "# 1.1)Adadelta"
   ]
  },
  {
   "cell_type": "code",
   "execution_count": 44,
   "metadata": {},
   "outputs": [],
   "source": [
    "model.compile(loss=\"sparse_categorical_crossentropy\",\n",
    "              optimizer=\"Adadelta\",\n",
    "              metrics=[\"accuracy\"])"
   ]
  },
  {
   "cell_type": "code",
   "execution_count": 45,
   "metadata": {},
   "outputs": [
    {
     "name": "stdout",
     "output_type": "stream",
     "text": [
      "Train on 55000 samples, validate on 5000 samples\n",
      "Epoch 1/30\n",
      "55000/55000 [==============================] - 10s 188us/sample - loss: 0.2117 - accuracy: 0.9256 - val_loss: 0.2880 - val_accuracy: 0.8974\n",
      "Epoch 2/30\n",
      "55000/55000 [==============================] - 10s 181us/sample - loss: 0.2050 - accuracy: 0.9287 - val_loss: 0.2868 - val_accuracy: 0.8972\n",
      "Epoch 3/30\n",
      "55000/55000 [==============================] - 10s 185us/sample - loss: 0.2037 - accuracy: 0.9292 - val_loss: 0.2867 - val_accuracy: 0.8970\n",
      "Epoch 4/30\n",
      "55000/55000 [==============================] - 10s 175us/sample - loss: 0.2028 - accuracy: 0.9295 - val_loss: 0.2866 - val_accuracy: 0.8964\n",
      "Epoch 5/30\n",
      "55000/55000 [==============================] - 9s 160us/sample - loss: 0.2022 - accuracy: 0.9293 - val_loss: 0.2862 - val_accuracy: 0.8976\n",
      "Epoch 6/30\n",
      "55000/55000 [==============================] - 9s 161us/sample - loss: 0.2017 - accuracy: 0.9295 - val_loss: 0.2861 - val_accuracy: 0.8984\n",
      "Epoch 7/30\n",
      "55000/55000 [==============================] - 9s 168us/sample - loss: 0.2013 - accuracy: 0.9299 - val_loss: 0.2859 - val_accuracy: 0.8972\n",
      "Epoch 8/30\n",
      "55000/55000 [==============================] - 9s 170us/sample - loss: 0.2010 - accuracy: 0.9298 - val_loss: 0.2861 - val_accuracy: 0.8972\n",
      "Epoch 9/30\n",
      "55000/55000 [==============================] - 9s 162us/sample - loss: 0.2008 - accuracy: 0.9300 - val_loss: 0.2862 - val_accuracy: 0.8970\n",
      "Epoch 10/30\n",
      "55000/55000 [==============================] - 9s 164us/sample - loss: 0.2005 - accuracy: 0.9300 - val_loss: 0.2858 - val_accuracy: 0.8970\n",
      "Epoch 11/30\n",
      "55000/55000 [==============================] - 9s 171us/sample - loss: 0.2003 - accuracy: 0.9301 - val_loss: 0.2860 - val_accuracy: 0.8976\n",
      "Epoch 12/30\n",
      "55000/55000 [==============================] - 9s 157us/sample - loss: 0.2001 - accuracy: 0.9301 - val_loss: 0.2861 - val_accuracy: 0.8966\n",
      "Epoch 13/30\n",
      "55000/55000 [==============================] - 8s 150us/sample - loss: 0.1999 - accuracy: 0.9301 - val_loss: 0.2858 - val_accuracy: 0.8974\n",
      "Epoch 14/30\n",
      "55000/55000 [==============================] - 9s 168us/sample - loss: 0.1998 - accuracy: 0.9304 - val_loss: 0.2861 - val_accuracy: 0.8968\n",
      "Epoch 15/30\n",
      "55000/55000 [==============================] - 9s 160us/sample - loss: 0.1997 - accuracy: 0.9303 - val_loss: 0.2863 - val_accuracy: 0.8976\n",
      "Epoch 16/30\n",
      "55000/55000 [==============================] - 9s 158us/sample - loss: 0.1996 - accuracy: 0.9303 - val_loss: 0.2859 - val_accuracy: 0.8978\n",
      "Epoch 17/30\n",
      "55000/55000 [==============================] - 9s 164us/sample - loss: 0.1994 - accuracy: 0.9305 - val_loss: 0.2863 - val_accuracy: 0.8972\n",
      "Epoch 18/30\n",
      "55000/55000 [==============================] - 9s 162us/sample - loss: 0.1993 - accuracy: 0.9306 - val_loss: 0.2861 - val_accuracy: 0.8966\n",
      "Epoch 19/30\n",
      "55000/55000 [==============================] - 9s 156us/sample - loss: 0.1992 - accuracy: 0.9304 - val_loss: 0.2861 - val_accuracy: 0.8966\n",
      "Epoch 20/30\n",
      "55000/55000 [==============================] - 9s 157us/sample - loss: 0.1991 - accuracy: 0.9305 - val_loss: 0.2860 - val_accuracy: 0.8968\n",
      "Epoch 21/30\n",
      "55000/55000 [==============================] - 9s 160us/sample - loss: 0.1990 - accuracy: 0.9305 - val_loss: 0.2862 - val_accuracy: 0.8966\n",
      "Epoch 22/30\n",
      "55000/55000 [==============================] - 9s 157us/sample - loss: 0.1990 - accuracy: 0.9306 - val_loss: 0.2861 - val_accuracy: 0.8964\n",
      "Epoch 23/30\n",
      "55000/55000 [==============================] - 9s 158us/sample - loss: 0.1988 - accuracy: 0.9307 - val_loss: 0.2859 - val_accuracy: 0.8964\n",
      "Epoch 24/30\n",
      "55000/55000 [==============================] - 9s 165us/sample - loss: 0.1987 - accuracy: 0.9308 - val_loss: 0.2862 - val_accuracy: 0.8970\n",
      "Epoch 25/30\n",
      "55000/55000 [==============================] - 11s 201us/sample - loss: 0.1987 - accuracy: 0.9310 - val_loss: 0.2860 - val_accuracy: 0.8968\n",
      "Epoch 26/30\n",
      "55000/55000 [==============================] - 9s 172us/sample - loss: 0.1986 - accuracy: 0.9307 - val_loss: 0.2862 - val_accuracy: 0.8966\n",
      "Epoch 27/30\n",
      "55000/55000 [==============================] - 9s 162us/sample - loss: 0.1985 - accuracy: 0.9308 - val_loss: 0.2863 - val_accuracy: 0.8968\n",
      "Epoch 28/30\n",
      "55000/55000 [==============================] - 9s 168us/sample - loss: 0.1984 - accuracy: 0.9307 - val_loss: 0.2857 - val_accuracy: 0.8970\n",
      "Epoch 29/30\n",
      "55000/55000 [==============================] - 10s 183us/sample - loss: 0.1983 - accuracy: 0.9307 - val_loss: 0.2861 - val_accuracy: 0.8958\n",
      "Epoch 30/30\n",
      "55000/55000 [==============================] - 9s 161us/sample - loss: 0.1982 - accuracy: 0.9308 - val_loss: 0.2857 - val_accuracy: 0.8972\n"
     ]
    }
   ],
   "source": [
    "history1 = model.fit(X_train, y_train, batch_size=32, epochs=30,\n",
    "                    validation_data=(X_valid, y_valid))"
   ]
  },
  {
   "cell_type": "code",
   "execution_count": 46,
   "metadata": {},
   "outputs": [
    {
     "data": {
      "text/plain": [
       "{'batch_size': 32,\n",
       " 'epochs': 30,\n",
       " 'steps': 1719,\n",
       " 'samples': 55000,\n",
       " 'verbose': 0,\n",
       " 'do_validation': True,\n",
       " 'metrics': ['loss', 'accuracy', 'val_loss', 'val_accuracy']}"
      ]
     },
     "execution_count": 46,
     "metadata": {},
     "output_type": "execute_result"
    }
   ],
   "source": [
    "history1.params"
   ]
  },
  {
   "cell_type": "code",
   "execution_count": 47,
   "metadata": {},
   "outputs": [
    {
     "data": {
      "image/png": "[encoded data removed]",
      "text/plain": [
       "<Figure size 576x360 with 1 Axes>"
      ]
     },
     "metadata": {
      "needs_background": "light"
     },
     "output_type": "display_data"
    }
   ],
   "source": [
    "pd.DataFrame(history1.history).plot(figsize=(8, 5),title=('Adadelta'))\n",
    "plt.grid(True)\n",
    "plt.gca().set_ylim(0, 1)\n",
    "plt.show()"
   ]
  },
  {
   "cell_type": "code",
   "execution_count": 49,
   "metadata": {},
   "outputs": [
    {
     "name": "stdout",
     "output_type": "stream",
     "text": [
      "10000/10000 [==============================] - 1s 76us/sample - loss: 0.3145 - accuracy: 0.8914\n"
     ]
    }
   ],
   "source": [
    "Adadelta = model.evaluate(X_test, y_test)"
   ]
  },
  {
   "cell_type": "code",
   "execution_count": 50,
   "metadata": {},
   "outputs": [
    {
     "data": {
      "text/plain": [
       "[0.3144932017028332, 0.8914]"
      ]
     },
     "execution_count": 50,
     "metadata": {},
     "output_type": "execute_result"
    }
   ],
   "source": [
    "Adadelta"
   ]
  },
  {
   "cell_type": "markdown",
   "metadata": {},
   "source": [
    "# 1.2)Adamax"
   ]
  },
  {
   "cell_type": "code",
   "execution_count": 51,
   "metadata": {},
   "outputs": [],
   "source": [
    "model.compile(loss=\"sparse_categorical_crossentropy\",\n",
    "              optimizer=\"Adamax\",\n",
    "              metrics=[\"accuracy\"])"
   ]
  },
  {
   "cell_type": "code",
   "execution_count": 52,
   "metadata": {},
   "outputs": [
    {
     "name": "stdout",
     "output_type": "stream",
     "text": [
      "Train on 55000 samples, validate on 5000 samples\n",
      "Epoch 1/30\n",
      "55000/55000 [==============================] - 10s 179us/sample - loss: 0.2740 - accuracy: 0.9000 - val_loss: 0.3230 - val_accuracy: 0.8842\n",
      "Epoch 2/30\n",
      "55000/55000 [==============================] - 9s 170us/sample - loss: 0.2576 - accuracy: 0.9045 - val_loss: 0.3190 - val_accuracy: 0.8858\n",
      "Epoch 3/30\n",
      "55000/55000 [==============================] - 10s 180us/sample - loss: 0.2487 - accuracy: 0.9085 - val_loss: 0.3026 - val_accuracy: 0.8898\n",
      "Epoch 4/30\n",
      "55000/55000 [==============================] - 8s 143us/sample - loss: 0.2334 - accuracy: 0.9149 - val_loss: 0.3354 - val_accuracy: 0.8834\n",
      "Epoch 5/30\n",
      "55000/55000 [==============================] - 9s 169us/sample - loss: 0.2258 - accuracy: 0.9177 - val_loss: 0.2943 - val_accuracy: 0.8904\n",
      "Epoch 6/30\n",
      "55000/55000 [==============================] - 11s 197us/sample - loss: 0.2173 - accuracy: 0.9201 - val_loss: 0.2895 - val_accuracy: 0.8952\n",
      "Epoch 7/30\n",
      "55000/55000 [==============================] - 10s 177us/sample - loss: 0.2130 - accuracy: 0.9220 - val_loss: 0.3030 - val_accuracy: 0.8922\n",
      "Epoch 8/30\n",
      "55000/55000 [==============================] - 9s 170us/sample - loss: 0.2017 - accuracy: 0.9256 - val_loss: 0.3009 - val_accuracy: 0.8988\n",
      "Epoch 9/30\n",
      "55000/55000 [==============================] - 10s 191us/sample - loss: 0.1954 - accuracy: 0.9282 - val_loss: 0.3007 - val_accuracy: 0.8954\n",
      "Epoch 10/30\n",
      "55000/55000 [==============================] - 9s 164us/sample - loss: 0.1880 - accuracy: 0.9316 - val_loss: 0.3142 - val_accuracy: 0.8936\n",
      "Epoch 11/30\n",
      "55000/55000 [==============================] - 9s 167us/sample - loss: 0.1828 - accuracy: 0.9320 - val_loss: 0.3186 - val_accuracy: 0.8890\n",
      "Epoch 12/30\n",
      "55000/55000 [==============================] - 8s 151us/sample - loss: 0.1751 - accuracy: 0.9358 - val_loss: 0.3109 - val_accuracy: 0.8962\n",
      "Epoch 13/30\n",
      "55000/55000 [==============================] - 9s 170us/sample - loss: 0.1701 - accuracy: 0.9375 - val_loss: 0.3235 - val_accuracy: 0.8898\n",
      "Epoch 14/30\n",
      "55000/55000 [==============================] - 9s 160us/sample - loss: 0.1643 - accuracy: 0.9397 - val_loss: 0.3015 - val_accuracy: 0.8936\n",
      "Epoch 15/30\n",
      "55000/55000 [==============================] - 9s 157us/sample - loss: 0.1588 - accuracy: 0.9416 - val_loss: 0.3170 - val_accuracy: 0.8978\n",
      "Epoch 16/30\n",
      "55000/55000 [==============================] - 9s 163us/sample - loss: 0.1523 - accuracy: 0.9445 - val_loss: 0.3023 - val_accuracy: 0.8936\n",
      "Epoch 17/30\n",
      "55000/55000 [==============================] - 9s 155us/sample - loss: 0.1463 - accuracy: 0.9454 - val_loss: 0.3087 - val_accuracy: 0.8976\n",
      "Epoch 18/30\n",
      "55000/55000 [==============================] - 9s 169us/sample - loss: 0.1451 - accuracy: 0.9467 - val_loss: 0.3180 - val_accuracy: 0.8944\n",
      "Epoch 19/30\n",
      "55000/55000 [==============================] - 9s 170us/sample - loss: 0.1380 - accuracy: 0.9496 - val_loss: 0.3077 - val_accuracy: 0.9000\n",
      "Epoch 20/30\n",
      "55000/55000 [==============================] - 8s 149us/sample - loss: 0.1347 - accuracy: 0.9503 - val_loss: 0.3239 - val_accuracy: 0.9010\n",
      "Epoch 21/30\n",
      "55000/55000 [==============================] - 8s 142us/sample - loss: 0.1281 - accuracy: 0.9529 - val_loss: 0.3265 - val_accuracy: 0.8926\n",
      "Epoch 22/30\n",
      "55000/55000 [==============================] - 8s 138us/sample - loss: 0.1249 - accuracy: 0.9547 - val_loss: 0.3477 - val_accuracy: 0.8940\n",
      "Epoch 23/30\n",
      "55000/55000 [==============================] - 8s 144us/sample - loss: 0.1217 - accuracy: 0.9554 - val_loss: 0.3156 - val_accuracy: 0.9030\n",
      "Epoch 24/30\n",
      "55000/55000 [==============================] - 9s 168us/sample - loss: 0.1169 - accuracy: 0.9569 - val_loss: 0.3281 - val_accuracy: 0.8994\n",
      "Epoch 25/30\n",
      "55000/55000 [==============================] - 9s 160us/sample - loss: 0.1126 - accuracy: 0.9587 - val_loss: 0.3114 - val_accuracy: 0.9024\n",
      "Epoch 26/30\n",
      "55000/55000 [==============================] - 8s 140us/sample - loss: 0.1090 - accuracy: 0.9601 - val_loss: 0.3222 - val_accuracy: 0.8978\n",
      "Epoch 27/30\n",
      "55000/55000 [==============================] - 10s 180us/sample - loss: 0.1051 - accuracy: 0.9618 - val_loss: 0.3343 - val_accuracy: 0.9002\n",
      "Epoch 28/30\n",
      "55000/55000 [==============================] - 8s 153us/sample - loss: 0.1031 - accuracy: 0.9618 - val_loss: 0.3385 - val_accuracy: 0.9004\n",
      "Epoch 29/30\n",
      "55000/55000 [==============================] - 8s 145us/sample - loss: 0.0964 - accuracy: 0.9654 - val_loss: 0.3748 - val_accuracy: 0.8956\n",
      "Epoch 30/30\n",
      "55000/55000 [==============================] - 8s 145us/sample - loss: 0.0966 - accuracy: 0.9645 - val_loss: 0.3569 - val_accuracy: 0.8996\n"
     ]
    }
   ],
   "source": [
    "history2 = model.fit(X_train, y_train, batch_size=32, epochs=30,\n",
    "                    validation_data=(X_valid, y_valid))"
   ]
  },
  {
   "cell_type": "code",
   "execution_count": 53,
   "metadata": {},
   "outputs": [
    {
     "data": {
      "text/plain": [
       "{'batch_size': 32,\n",
       " 'epochs': 30,\n",
       " 'steps': 1719,\n",
       " 'samples': 55000,\n",
       " 'verbose': 0,\n",
       " 'do_validation': True,\n",
       " 'metrics': ['loss', 'accuracy', 'val_loss', 'val_accuracy']}"
      ]
     },
     "execution_count": 53,
     "metadata": {},
     "output_type": "execute_result"
    }
   ],
   "source": [
    "history2.params"
   ]
  },
  {
   "cell_type": "code",
   "execution_count": 55,
   "metadata": {},
   "outputs": [
    {
     "data": {
      "image/png": "[encoded data removed]",
      "text/plain": [
       "<Figure size 576x360 with 1 Axes>"
      ]
     },
     "metadata": {
      "needs_background": "light"
     },
     "output_type": "display_data"
    }
   ],
   "source": [
    "pd.DataFrame(history2.history).plot(figsize=(8, 5),title=('Adamax'))\n",
    "plt.grid(True)\n",
    "plt.gca().set_ylim(0, 1)\n",
    "plt.show()"
   ]
  },
  {
   "cell_type": "code",
   "execution_count": 56,
   "metadata": {},
   "outputs": [
    {
     "name": "stdout",
     "output_type": "stream",
     "text": [
      "10000/10000 [==============================] - 1s 61us/sample - loss: 0.3859 - accuracy: 0.8979\n"
     ]
    }
   ],
   "source": [
    "Adamax = model.evaluate(X_test, y_test)"
   ]
  },
  {
   "cell_type": "code",
   "execution_count": 57,
   "metadata": {},
   "outputs": [
    {
     "data": {
      "text/plain": [
       "[0.38586313135623934, 0.8979]"
      ]
     },
     "execution_count": 57,
     "metadata": {},
     "output_type": "execute_result"
    }
   ],
   "source": [
    "Adamax"
   ]
  },
  {
   "cell_type": "code",
   "execution_count": 58,
   "metadata": {},
   "outputs": [
    {
     "data": {
      "image/png": "[encoded data removed]",
      "text/plain": [
       "<Figure size 576x360 with 1 Axes>"
      ]
     },
     "metadata": {
      "needs_background": "light"
     },
     "output_type": "display_data"
    },
    {
     "data": {
      "image/png": "[encoded data removed]",
      "text/plain": [
       "<Figure size 576x360 with 1 Axes>"
      ]
     },
     "metadata": {
      "needs_background": "light"
     },
     "output_type": "display_data"
    },
    {
     "data": {
      "image/png": "[encoded data removed]",
      "text/plain": [
       "<Figure size 576x360 with 1 Axes>"
      ]
     },
     "metadata": {
      "needs_background": "light"
     },
     "output_type": "display_data"
    }
   ],
   "source": [
    "pd.DataFrame(history.history).plot(figsize=(8, 5),title=('sgd'))\n",
    "pd.DataFrame(history1.history).plot(figsize=(8, 5),title=('Adadelta'))\n",
    "pd.DataFrame(history2.history).plot(figsize=(8, 5),title=('Adamax'))\n",
    "plt.grid(True)\n",
    "plt.gca().set_ylim(0, 1)\n",
    "plt.show()"
   ]
  },
  {
   "cell_type": "markdown",
   "metadata": {},
   "source": [
    "# 2)Using different batch size"
   ]
  },
  {
   "cell_type": "raw",
   "metadata": {},
   "source": [
    "batch size = 2"
   ]
  },
  {
   "cell_type": "code",
   "execution_count": 60,
   "metadata": {},
   "outputs": [],
   "source": [
    "model.compile(loss=\"sparse_categorical_crossentropy\",\n",
    "              optimizer=\"sgd\",\n",
    "              metrics=[\"accuracy\"])"
   ]
  },
  {
   "cell_type": "code",
   "execution_count": 61,
   "metadata": {},
   "outputs": [
    {
     "name": "stdout",
     "output_type": "stream",
     "text": [
      "Train on 55000 samples, validate on 5000 samples\n",
      "Epoch 1/30\n",
      "55000/55000 [==============================] - 101s 2ms/sample - loss: 0.3295 - accuracy: 0.8790 - val_loss: 0.3780 - val_accuracy: 0.8630\n",
      "Epoch 2/30\n",
      "55000/55000 [==============================] - 94s 2ms/sample - loss: 0.2543 - accuracy: 0.9047 - val_loss: 0.3252 - val_accuracy: 0.8854\n",
      "Epoch 3/30\n",
      "55000/55000 [==============================] - 96s 2ms/sample - loss: 0.2360 - accuracy: 0.9125 - val_loss: 0.3261 - val_accuracy: 0.8864\n",
      "Epoch 4/30\n",
      "55000/55000 [==============================] - 94s 2ms/sample - loss: 0.2162 - accuracy: 0.9183 - val_loss: 0.3579 - val_accuracy: 0.8796\n",
      "Epoch 5/30\n",
      "55000/55000 [==============================] - 84s 2ms/sample - loss: 0.2049 - accuracy: 0.9224 - val_loss: 0.3128 - val_accuracy: 0.8948\n",
      "Epoch 6/30\n",
      "55000/55000 [==============================] - 91s 2ms/sample - loss: 0.1953 - accuracy: 0.9250 - val_loss: 0.3575 - val_accuracy: 0.8898\n",
      "Epoch 7/30\n",
      "55000/55000 [==============================] - 96s 2ms/sample - loss: 0.1853 - accuracy: 0.9306 - val_loss: 0.3518 - val_accuracy: 0.8862\n",
      "Epoch 8/30\n",
      "55000/55000 [==============================] - 93s 2ms/sample - loss: 0.1784 - accuracy: 0.9323 - val_loss: 0.3223 - val_accuracy: 0.8952\n",
      "Epoch 9/30\n",
      "55000/55000 [==============================] - 92s 2ms/sample - loss: 0.1701 - accuracy: 0.9351 - val_loss: 0.3254 - val_accuracy: 0.8930\n",
      "Epoch 10/30\n",
      "55000/55000 [==============================] - 89s 2ms/sample - loss: 0.1632 - accuracy: 0.9380 - val_loss: 0.3285 - val_accuracy: 0.8942\n",
      "Epoch 11/30\n",
      "55000/55000 [==============================] - 95s 2ms/sample - loss: 0.1600 - accuracy: 0.9386 - val_loss: 0.3560 - val_accuracy: 0.8948\n",
      "Epoch 12/30\n",
      "55000/55000 [==============================] - 92s 2ms/sample - loss: 0.1529 - accuracy: 0.9413 - val_loss: 0.3504 - val_accuracy: 0.8908\n",
      "Epoch 13/30\n",
      "55000/55000 [==============================] - 90s 2ms/sample - loss: 0.1509 - accuracy: 0.9416 - val_loss: 0.3532 - val_accuracy: 0.8978\n",
      "Epoch 14/30\n",
      "55000/55000 [==============================] - 89s 2ms/sample - loss: 0.1448 - accuracy: 0.9446 - val_loss: 0.3543 - val_accuracy: 0.8990\n",
      "Epoch 15/30\n",
      "55000/55000 [==============================] - 87s 2ms/sample - loss: 0.1419 - accuracy: 0.9463 - val_loss: 0.3783 - val_accuracy: 0.8924\n",
      "Epoch 16/30\n",
      "55000/55000 [==============================] - 83s 2ms/sample - loss: 0.1383 - accuracy: 0.9478 - val_loss: 0.3953 - val_accuracy: 0.8894\n",
      "Epoch 17/30\n",
      "55000/55000 [==============================] - 88s 2ms/sample - loss: 0.1349 - accuracy: 0.9491 - val_loss: 0.4319 - val_accuracy: 0.8866\n",
      "Epoch 18/30\n",
      "55000/55000 [==============================] - 90s 2ms/sample - loss: 0.1321 - accuracy: 0.9493 - val_loss: 0.3560 - val_accuracy: 0.9008\n",
      "Epoch 19/30\n",
      "55000/55000 [==============================] - 94s 2ms/sample - loss: 0.1296 - accuracy: 0.9504 - val_loss: 0.4299 - val_accuracy: 0.8874\n",
      "Epoch 20/30\n",
      "55000/55000 [==============================] - 92s 2ms/sample - loss: 0.1232 - accuracy: 0.9543 - val_loss: 0.4271 - val_accuracy: 0.8932\n",
      "Epoch 21/30\n",
      "55000/55000 [==============================] - 102s 2ms/sample - loss: 0.1186 - accuracy: 0.9544 - val_loss: 0.3983 - val_accuracy: 0.8960\n",
      "Epoch 22/30\n",
      "55000/55000 [==============================] - 96s 2ms/sample - loss: 0.1165 - accuracy: 0.9557 - val_loss: 0.3929 - val_accuracy: 0.8974\n",
      "Epoch 23/30\n",
      "55000/55000 [==============================] - 87s 2ms/sample - loss: 0.1178 - accuracy: 0.9555 - val_loss: 0.3937 - val_accuracy: 0.9016\n",
      "Epoch 24/30\n",
      "55000/55000 [==============================] - 92s 2ms/sample - loss: 0.1143 - accuracy: 0.9563 - val_loss: 0.4273 - val_accuracy: 0.8892\n",
      "Epoch 25/30\n",
      "55000/55000 [==============================] - 97s 2ms/sample - loss: 0.1131 - accuracy: 0.9568 - val_loss: 0.4109 - val_accuracy: 0.9036\n",
      "Epoch 26/30\n",
      "55000/55000 [==============================] - 91s 2ms/sample - loss: 0.1076 - accuracy: 0.9591 - val_loss: 0.4419 - val_accuracy: 0.9022\n",
      "Epoch 27/30\n",
      "55000/55000 [==============================] - 97s 2ms/sample - loss: 0.1117 - accuracy: 0.9578 - val_loss: 0.4930 - val_accuracy: 0.8876\n",
      "Epoch 28/30\n",
      "55000/55000 [==============================] - 92s 2ms/sample - loss: 0.1061 - accuracy: 0.9600 - val_loss: 0.4695 - val_accuracy: 0.8952\n",
      "Epoch 29/30\n",
      "55000/55000 [==============================] - 106s 2ms/sample - loss: 0.1058 - accuracy: 0.9598 - val_loss: 0.4597 - val_accuracy: 0.8970\n",
      "Epoch 30/30\n",
      "55000/55000 [==============================] - 101s 2ms/sample - loss: 0.1014 - accuracy: 0.9612 - val_loss: 0.5320 - val_accuracy: 0.8882\n"
     ]
    }
   ],
   "source": [
    "history4 = model.fit(X_train, y_train, batch_size=2, epochs=30,\n",
    "                    validation_data=(X_valid, y_valid))"
   ]
  },
  {
   "cell_type": "code",
   "execution_count": 62,
   "metadata": {},
   "outputs": [
    {
     "name": "stdout",
     "output_type": "stream",
     "text": [
      "10000/10000 [==============================] - 2s 157us/sample - loss: 0.5871 - accuracy: 0.8791\n"
     ]
    }
   ],
   "source": [
    "model_batch_2 = model.evaluate(X_test, y_test)"
   ]
  },
  {
   "cell_type": "code",
   "execution_count": 64,
   "metadata": {},
   "outputs": [
    {
     "data": {
      "text/plain": [
       "[0.587073185005784, 0.8791]"
      ]
     },
     "execution_count": 64,
     "metadata": {},
     "output_type": "execute_result"
    }
   ],
   "source": [
    "model_batch_2"
   ]
  },
  {
   "cell_type": "raw",
   "metadata": {},
   "source": [
    "batch size = 10000"
   ]
  },
  {
   "cell_type": "code",
   "execution_count": 66,
   "metadata": {},
   "outputs": [
    {
     "name": "stdout",
     "output_type": "stream",
     "text": [
      "Train on 55000 samples, validate on 5000 samples\n",
      "Epoch 1/30\n",
      "55000/55000 [==============================] - 3s 49us/sample - loss: 0.0948 - accuracy: 0.9648 - val_loss: 0.4701 - val_accuracy: 0.8982\n",
      "Epoch 2/30\n",
      "55000/55000 [==============================] - 2s 38us/sample - loss: 0.0733 - accuracy: 0.9724 - val_loss: 0.4547 - val_accuracy: 0.9012\n",
      "Epoch 3/30\n",
      "55000/55000 [==============================] - 2s 35us/sample - loss: 0.0662 - accuracy: 0.9757 - val_loss: 0.4474 - val_accuracy: 0.9036\n",
      "Epoch 4/30\n",
      "55000/55000 [==============================] - 2s 35us/sample - loss: 0.0622 - accuracy: 0.9772 - val_loss: 0.4429 - val_accuracy: 0.9030\n",
      "Epoch 5/30\n",
      "55000/55000 [==============================] - 2s 34us/sample - loss: 0.0594 - accuracy: 0.9783 - val_loss: 0.4401 - val_accuracy: 0.9036\n",
      "Epoch 6/30\n",
      "55000/55000 [==============================] - 2s 38us/sample - loss: 0.0574 - accuracy: 0.9793 - val_loss: 0.4379 - val_accuracy: 0.9056\n",
      "Epoch 7/30\n",
      "55000/55000 [==============================] - 2s 34us/sample - loss: 0.0556 - accuracy: 0.9801 - val_loss: 0.4361 - val_accuracy: 0.9056\n",
      "Epoch 8/30\n",
      "55000/55000 [==============================] - 2s 32us/sample - loss: 0.0542 - accuracy: 0.9806 - val_loss: 0.4349 - val_accuracy: 0.9056\n",
      "Epoch 9/30\n",
      "55000/55000 [==============================] - 2s 33us/sample - loss: 0.0530 - accuracy: 0.9813 - val_loss: 0.4340 - val_accuracy: 0.9050\n",
      "Epoch 10/30\n",
      "55000/55000 [==============================] - 2s 33us/sample - loss: 0.0520 - accuracy: 0.9815 - val_loss: 0.4335 - val_accuracy: 0.9060\n",
      "Epoch 11/30\n",
      "55000/55000 [==============================] - 2s 36us/sample - loss: 0.0511 - accuracy: 0.9820 - val_loss: 0.4331 - val_accuracy: 0.9064\n",
      "Epoch 12/30\n",
      "55000/55000 [==============================] - 2s 36us/sample - loss: 0.0503 - accuracy: 0.9824 - val_loss: 0.4329 - val_accuracy: 0.9064\n",
      "Epoch 13/30\n",
      "55000/55000 [==============================] - 2s 33us/sample - loss: 0.0496 - accuracy: 0.9825 - val_loss: 0.4327 - val_accuracy: 0.9066\n",
      "Epoch 14/30\n",
      "55000/55000 [==============================] - 2s 32us/sample - loss: 0.0489 - accuracy: 0.9827 - val_loss: 0.4326 - val_accuracy: 0.9062\n",
      "Epoch 15/30\n",
      "55000/55000 [==============================] - 2s 34us/sample - loss: 0.0483 - accuracy: 0.9829 - val_loss: 0.4326 - val_accuracy: 0.9066\n",
      "Epoch 16/30\n",
      "55000/55000 [==============================] - 2s 33us/sample - loss: 0.0477 - accuracy: 0.9829 - val_loss: 0.4326 - val_accuracy: 0.9062\n",
      "Epoch 17/30\n",
      "55000/55000 [==============================] - 2s 31us/sample - loss: 0.0472 - accuracy: 0.9830 - val_loss: 0.4326 - val_accuracy: 0.9066\n",
      "Epoch 18/30\n",
      "55000/55000 [==============================] - 2s 30us/sample - loss: 0.0468 - accuracy: 0.9832 - val_loss: 0.4329 - val_accuracy: 0.9064\n",
      "Epoch 19/30\n",
      "55000/55000 [==============================] - 2s 30us/sample - loss: 0.0463 - accuracy: 0.9834 - val_loss: 0.4330 - val_accuracy: 0.9066\n",
      "Epoch 20/30\n",
      "55000/55000 [==============================] - 2s 36us/sample - loss: 0.0459 - accuracy: 0.9834 - val_loss: 0.4333 - val_accuracy: 0.9070\n",
      "Epoch 21/30\n",
      "55000/55000 [==============================] - 2s 36us/sample - loss: 0.0456 - accuracy: 0.9837 - val_loss: 0.4335 - val_accuracy: 0.9064\n",
      "Epoch 22/30\n",
      "55000/55000 [==============================] - 2s 34us/sample - loss: 0.0452 - accuracy: 0.9837 - val_loss: 0.4337 - val_accuracy: 0.9066\n",
      "Epoch 23/30\n",
      "55000/55000 [==============================] - 2s 31us/sample - loss: 0.0449 - accuracy: 0.9839 - val_loss: 0.4339 - val_accuracy: 0.9072\n",
      "Epoch 24/30\n",
      "55000/55000 [==============================] - 2s 30us/sample - loss: 0.0446 - accuracy: 0.9839 - val_loss: 0.4341 - val_accuracy: 0.9074\n",
      "Epoch 25/30\n",
      "55000/55000 [==============================] - 2s 36us/sample - loss: 0.0443 - accuracy: 0.9842 - val_loss: 0.4343 - val_accuracy: 0.9076\n",
      "Epoch 26/30\n",
      "55000/55000 [==============================] - 2s 36us/sample - loss: 0.0440 - accuracy: 0.9843 - val_loss: 0.4344 - val_accuracy: 0.9078\n",
      "Epoch 27/30\n",
      "55000/55000 [==============================] - 2s 32us/sample - loss: 0.0437 - accuracy: 0.9844 - val_loss: 0.4346 - val_accuracy: 0.9080\n",
      "Epoch 28/30\n",
      "55000/55000 [==============================] - 2s 34us/sample - loss: 0.0435 - accuracy: 0.9846 - val_loss: 0.4349 - val_accuracy: 0.9084\n",
      "Epoch 29/30\n",
      "55000/55000 [==============================] - 2s 33us/sample - loss: 0.0432 - accuracy: 0.9846 - val_loss: 0.4350 - val_accuracy: 0.9086\n",
      "Epoch 30/30\n",
      "55000/55000 [==============================] - 2s 29us/sample - loss: 0.0430 - accuracy: 0.9847 - val_loss: 0.4353 - val_accuracy: 0.9082\n"
     ]
    }
   ],
   "source": [
    "history5 = model.fit(X_train, y_train, batch_size=1000, epochs=30,\n",
    "                    validation_data=(X_valid, y_valid))"
   ]
  },
  {
   "cell_type": "code",
   "execution_count": 67,
   "metadata": {},
   "outputs": [
    {
     "name": "stdout",
     "output_type": "stream",
     "text": [
      "10000/10000 [==============================] - 1s 98us/sample - loss: 0.4945 - accuracy: 0.9012\n"
     ]
    }
   ],
   "source": [
    "model_batch_10000 = model.evaluate(X_test, y_test)"
   ]
  },
  {
   "cell_type": "code",
   "execution_count": 68,
   "metadata": {},
   "outputs": [
    {
     "data": {
      "text/plain": [
       "[0.4944980951040983, 0.9012]"
      ]
     },
     "execution_count": 68,
     "metadata": {},
     "output_type": "execute_result"
    }
   ],
   "source": [
    "model_batch_10000"
   ]
  },
  {
   "cell_type": "code",
   "execution_count": 70,
   "metadata": {},
   "outputs": [
    {
     "data": {
      "image/png": "[encoded data removed]",
      "text/plain": [
       "<Figure size 576x360 with 1 Axes>"
      ]
     },
     "metadata": {
      "needs_background": "light"
     },
     "output_type": "display_data"
    },
    {
     "data": {
      "image/png": "[encoded data removed]",
      "text/plain": [
       "<Figure size 576x360 with 1 Axes>"
      ]
     },
     "metadata": {
      "needs_background": "light"
     },
     "output_type": "display_data"
    }
   ],
   "source": [
    "pd.DataFrame(history4.history).plot(figsize=(8, 5))\n",
    "pd.DataFrame(history5.history).plot(figsize=(8, 5))\n",
    "plt.grid(True)\n",
    "plt.gca().set_ylim(0, 1)\n",
    "plt.show()"
   ]
  },
  {
   "cell_type": "markdown",
   "metadata": {},
   "source": [
    "# 3) Using different number of epochs"
   ]
  },
  {
   "cell_type": "markdown",
   "metadata": {},
   "source": [
    "# 3.1) Number of epochs=10"
   ]
  },
  {
   "cell_type": "code",
   "execution_count": 71,
   "metadata": {},
   "outputs": [
    {
     "name": "stdout",
     "output_type": "stream",
     "text": [
      "Train on 55000 samples, validate on 5000 samples\n",
      "Epoch 1/10\n",
      "55000/55000 [==============================] - 8s 152us/sample - loss: 0.0429 - accuracy: 0.9844 - val_loss: 0.4426 - val_accuracy: 0.9094\n",
      "Epoch 2/10\n",
      "55000/55000 [==============================] - 7s 136us/sample - loss: 0.0399 - accuracy: 0.9857 - val_loss: 0.4422 - val_accuracy: 0.9084\n",
      "Epoch 3/10\n",
      "55000/55000 [==============================] - 7s 130us/sample - loss: 0.0380 - accuracy: 0.9867 - val_loss: 0.4546 - val_accuracy: 0.9104\n",
      "Epoch 4/10\n",
      "55000/55000 [==============================] - 8s 154us/sample - loss: 0.0365 - accuracy: 0.9872 - val_loss: 0.4556 - val_accuracy: 0.9086\n",
      "Epoch 5/10\n",
      "55000/55000 [==============================] - 7s 135us/sample - loss: 0.0353 - accuracy: 0.9877 - val_loss: 0.4602 - val_accuracy: 0.9084\n",
      "Epoch 6/10\n",
      "55000/55000 [==============================] - 8s 139us/sample - loss: 0.0342 - accuracy: 0.9880 - val_loss: 0.4638 - val_accuracy: 0.9092\n",
      "Epoch 7/10\n",
      "55000/55000 [==============================] - 7s 130us/sample - loss: 0.0333 - accuracy: 0.9881 - val_loss: 0.4677 - val_accuracy: 0.9108\n",
      "Epoch 8/10\n",
      "55000/55000 [==============================] - 7s 127us/sample - loss: 0.0325 - accuracy: 0.9889 - val_loss: 0.4702 - val_accuracy: 0.9070\n",
      "Epoch 9/10\n",
      "55000/55000 [==============================] - 7s 134us/sample - loss: 0.0315 - accuracy: 0.9891 - val_loss: 0.4741 - val_accuracy: 0.9106\n",
      "Epoch 10/10\n",
      "55000/55000 [==============================] - 8s 152us/sample - loss: 0.0308 - accuracy: 0.9897 - val_loss: 0.4792 - val_accuracy: 0.9084\n"
     ]
    }
   ],
   "source": [
    "history6 = model.fit(X_train, y_train, batch_size=32, epochs=10,\n",
    "                    validation_data=(X_valid, y_valid))"
   ]
  },
  {
   "cell_type": "code",
   "execution_count": 72,
   "metadata": {},
   "outputs": [
    {
     "name": "stdout",
     "output_type": "stream",
     "text": [
      "10000/10000 [==============================] - 1s 74us/sample - loss: 0.5479 - accuracy: 0.9010\n"
     ]
    }
   ],
   "source": [
    "mod_epochs_10 = model.evaluate(X_test, y_test)"
   ]
  },
  {
   "cell_type": "markdown",
   "metadata": {},
   "source": [
    "# 3.2) Number of epochs=40"
   ]
  },
  {
   "cell_type": "code",
   "execution_count": 73,
   "metadata": {},
   "outputs": [
    {
     "name": "stdout",
     "output_type": "stream",
     "text": [
      "Train on 55000 samples, validate on 5000 samples\n",
      "Epoch 1/40\n",
      "55000/55000 [==============================] - 8s 146us/sample - loss: 0.0301 - accuracy: 0.9899 - val_loss: 0.4863 - val_accuracy: 0.9082\n",
      "Epoch 2/40\n",
      "55000/55000 [==============================] - 8s 144us/sample - loss: 0.0295 - accuracy: 0.9903 - val_loss: 0.4839 - val_accuracy: 0.9088\n",
      "Epoch 3/40\n",
      "55000/55000 [==============================] - 9s 160us/sample - loss: 0.0289 - accuracy: 0.9904 - val_loss: 0.4847 - val_accuracy: 0.9086\n",
      "Epoch 4/40\n",
      "55000/55000 [==============================] - 7s 131us/sample - loss: 0.0282 - accuracy: 0.9903 - val_loss: 0.4958 - val_accuracy: 0.9084\n",
      "Epoch 5/40\n",
      "55000/55000 [==============================] - 7s 134us/sample - loss: 0.0275 - accuracy: 0.9909 - val_loss: 0.4959 - val_accuracy: 0.9074\n",
      "Epoch 6/40\n",
      "55000/55000 [==============================] - 8s 151us/sample - loss: 0.0270 - accuracy: 0.9909 - val_loss: 0.4999 - val_accuracy: 0.9082\n",
      "Epoch 7/40\n",
      "55000/55000 [==============================] - 8s 148us/sample - loss: 0.0263 - accuracy: 0.9915 - val_loss: 0.5071 - val_accuracy: 0.9086\n",
      "Epoch 8/40\n",
      "55000/55000 [==============================] - 9s 169us/sample - loss: 0.0260 - accuracy: 0.9912 - val_loss: 0.5043 - val_accuracy: 0.9078\n",
      "Epoch 9/40\n",
      "55000/55000 [==============================] - 8s 137us/sample - loss: 0.0253 - accuracy: 0.9918 - val_loss: 0.5108 - val_accuracy: 0.9086\n",
      "Epoch 10/40\n",
      "55000/55000 [==============================] - 8s 139us/sample - loss: 0.0248 - accuracy: 0.9919 - val_loss: 0.5135 - val_accuracy: 0.9084\n",
      "Epoch 11/40\n",
      "55000/55000 [==============================] - 8s 154us/sample - loss: 0.0243 - accuracy: 0.9922 - val_loss: 0.5151 - val_accuracy: 0.9076\n",
      "Epoch 12/40\n",
      "55000/55000 [==============================] - 7s 136us/sample - loss: 0.0239 - accuracy: 0.9920 - val_loss: 0.5177 - val_accuracy: 0.9080\n",
      "Epoch 13/40\n",
      "55000/55000 [==============================] - 7s 127us/sample - loss: 0.0234 - accuracy: 0.9923 - val_loss: 0.5246 - val_accuracy: 0.9072\n",
      "Epoch 14/40\n",
      "55000/55000 [==============================] - 8s 143us/sample - loss: 0.0230 - accuracy: 0.9925 - val_loss: 0.5253 - val_accuracy: 0.9084\n",
      "Epoch 15/40\n",
      "55000/55000 [==============================] - 8s 150us/sample - loss: 0.0225 - accuracy: 0.9929 - val_loss: 0.5296 - val_accuracy: 0.9072\n",
      "Epoch 16/40\n",
      "55000/55000 [==============================] - 9s 171us/sample - loss: 0.0221 - accuracy: 0.9929 - val_loss: 0.5292 - val_accuracy: 0.9068\n",
      "Epoch 17/40\n",
      "55000/55000 [==============================] - 9s 167us/sample - loss: 0.0216 - accuracy: 0.9931 - val_loss: 0.5303 - val_accuracy: 0.9070\n",
      "Epoch 18/40\n",
      "55000/55000 [==============================] - 9s 172us/sample - loss: 0.0213 - accuracy: 0.9933 - val_loss: 0.5371 - val_accuracy: 0.9078\n",
      "Epoch 19/40\n",
      "55000/55000 [==============================] - 10s 182us/sample - loss: 0.0208 - accuracy: 0.9937 - val_loss: 0.5386 - val_accuracy: 0.9078\n",
      "Epoch 20/40\n",
      "55000/55000 [==============================] - 13s 237us/sample - loss: 0.0204 - accuracy: 0.9937 - val_loss: 0.5443 - val_accuracy: 0.9080\n",
      "Epoch 21/40\n",
      "55000/55000 [==============================] - 11s 202us/sample - loss: 0.0202 - accuracy: 0.9937 - val_loss: 0.5437 - val_accuracy: 0.9058\n",
      "Epoch 22/40\n",
      "55000/55000 [==============================] - 7s 130us/sample - loss: 0.0198 - accuracy: 0.9939 - val_loss: 0.5463 - val_accuracy: 0.9068\n",
      "Epoch 23/40\n",
      "55000/55000 [==============================] - 7s 125us/sample - loss: 0.0194 - accuracy: 0.9942 - val_loss: 0.5503 - val_accuracy: 0.9074\n",
      "Epoch 24/40\n",
      "55000/55000 [==============================] - 8s 149us/sample - loss: 0.0190 - accuracy: 0.9945 - val_loss: 0.5536 - val_accuracy: 0.9060\n",
      "Epoch 25/40\n",
      "55000/55000 [==============================] - 11s 193us/sample - loss: 0.0186 - accuracy: 0.9940 - val_loss: 0.5567 - val_accuracy: 0.9064\n",
      "Epoch 26/40\n",
      "55000/55000 [==============================] - 10s 184us/sample - loss: 0.0183 - accuracy: 0.9943 - val_loss: 0.5577 - val_accuracy: 0.9060\n",
      "Epoch 27/40\n",
      "55000/55000 [==============================] - 9s 165us/sample - loss: 0.0180 - accuracy: 0.9946 - val_loss: 0.5610 - val_accuracy: 0.9070\n",
      "Epoch 28/40\n",
      "55000/55000 [==============================] - 9s 163us/sample - loss: 0.0177 - accuracy: 0.9946 - val_loss: 0.5680 - val_accuracy: 0.9060\n",
      "Epoch 29/40\n",
      "55000/55000 [==============================] - 8s 147us/sample - loss: 0.0173 - accuracy: 0.9948 - val_loss: 0.5691 - val_accuracy: 0.9066\n",
      "Epoch 30/40\n",
      "55000/55000 [==============================] - 7s 126us/sample - loss: 0.0170 - accuracy: 0.9950 - val_loss: 0.5670 - val_accuracy: 0.9064\n",
      "Epoch 31/40\n",
      "55000/55000 [==============================] - 7s 130us/sample - loss: 0.0167 - accuracy: 0.9950 - val_loss: 0.5798 - val_accuracy: 0.9076\n",
      "Epoch 32/40\n",
      "55000/55000 [==============================] - 7s 128us/sample - loss: 0.0165 - accuracy: 0.9950 - val_loss: 0.5768 - val_accuracy: 0.9068\n",
      "Epoch 33/40\n",
      "55000/55000 [==============================] - 7s 123us/sample - loss: 0.0162 - accuracy: 0.9954 - val_loss: 0.5773 - val_accuracy: 0.9058\n",
      "Epoch 34/40\n",
      "55000/55000 [==============================] - 7s 127us/sample - loss: 0.0158 - accuracy: 0.9957 - val_loss: 0.5856 - val_accuracy: 0.9064\n",
      "Epoch 35/40\n",
      "55000/55000 [==============================] - 7s 122us/sample - loss: 0.0155 - accuracy: 0.9955 - val_loss: 0.5849 - val_accuracy: 0.9072\n",
      "Epoch 36/40\n",
      "55000/55000 [==============================] - 7s 121us/sample - loss: 0.0152 - accuracy: 0.9956 - val_loss: 0.5855 - val_accuracy: 0.9064\n",
      "Epoch 37/40\n",
      "55000/55000 [==============================] - 7s 120us/sample - loss: 0.0150 - accuracy: 0.9957 - val_loss: 0.5876 - val_accuracy: 0.9060\n",
      "Epoch 38/40\n",
      "55000/55000 [==============================] - 7s 119us/sample - loss: 0.0147 - accuracy: 0.9960 - val_loss: 0.5937 - val_accuracy: 0.9074\n",
      "Epoch 39/40\n",
      "55000/55000 [==============================] - 7s 133us/sample - loss: 0.0144 - accuracy: 0.9958 - val_loss: 0.5930 - val_accuracy: 0.9068\n",
      "Epoch 40/40\n",
      "55000/55000 [==============================] - 8s 144us/sample - loss: 0.0142 - accuracy: 0.9962 - val_loss: 0.5964 - val_accuracy: 0.9060\n"
     ]
    }
   ],
   "source": [
    "history7 = model.fit(X_train, y_train, batch_size=32, epochs=40,\n",
    "                    validation_data=(X_valid, y_valid))"
   ]
  },
  {
   "cell_type": "code",
   "execution_count": 74,
   "metadata": {},
   "outputs": [
    {
     "name": "stdout",
     "output_type": "stream",
     "text": [
      "10000/10000 [==============================] - 1s 91us/sample - loss: 0.6839 - accuracy: 0.9002\n"
     ]
    }
   ],
   "source": [
    "mod_epochs_40 = model.evaluate(X_test, y_test)"
   ]
  },
  {
   "cell_type": "code",
   "execution_count": 75,
   "metadata": {},
   "outputs": [
    {
     "data": {
      "image/png": "[encoded data removed]",
      "text/plain": [
       "<Figure size 576x360 with 1 Axes>"
      ]
     },
     "metadata": {
      "needs_background": "light"
     },
     "output_type": "display_data"
    },
    {
     "data": {
      "image/png": "[encoded data removed]",
      "text/plain": [
       "<Figure size 576x360 with 1 Axes>"
      ]
     },
     "metadata": {
      "needs_background": "light"
     },
     "output_type": "display_data"
    }
   ],
   "source": [
    "pd.DataFrame(history6.history).plot(figsize=(8, 5))\n",
    "pd.DataFrame(history7.history).plot(figsize=(8, 5))\n",
    "plt.grid(True)\n",
    "plt.gca().set_ylim(0, 1)\n",
    "plt.show()"
   ]
  },
  {
   "cell_type": "markdown",
   "metadata": {},
   "source": [
    "# 4) Using more layers"
   ]
  },
  {
   "cell_type": "code",
   "execution_count": 76,
   "metadata": {},
   "outputs": [],
   "source": [
    "model = keras.models.Sequential()\n",
    "model.add(keras.layers.Flatten(input_shape=[28, 28]))\n",
    "model.add(keras.layers.Dense(200, activation=\"relu\"))\n",
    "model.add((keras.layers.Dropout(0.5)))\n",
    "model.add(keras.layers.Dense(150, activation=\"relu\"))\n",
    "model.add((keras.layers.Dropout(0.5)))\n",
    "model.add(keras.layers.Dense(80, activation=\"relu\"))\n",
    "model.add(keras.layers.Dense(50, activation=\"relu\"))\n",
    "model.add(keras.layers.BatchNormalization())\n",
    "model.add(keras.layers.Dense(10, activation=\"softmax\"))\n",
    "\n"
   ]
  },
  {
   "cell_type": "code",
   "execution_count": 77,
   "metadata": {},
   "outputs": [
    {
     "data": {
      "text/plain": [
       "[<tensorflow.python.keras.layers.core.Flatten at 0x21d6bdb5488>,\n",
       " <tensorflow.python.keras.layers.core.Dense at 0x21d6bdb5fc8>,\n",
       " <tensorflow.python.keras.layers.core.Dropout at 0x21d50bf6988>,\n",
       " <tensorflow.python.keras.layers.core.Dense at 0x21d50bd3e88>,\n",
       " <tensorflow.python.keras.layers.core.Dropout at 0x21d4ac996c8>,\n",
       " <tensorflow.python.keras.layers.core.Dense at 0x21d6bd545c8>,\n",
       " <tensorflow.python.keras.layers.core.Dense at 0x21d6c87da88>,\n",
       " <tensorflow.python.keras.layers.normalization_v2.BatchNormalization at 0x21d6b90ccc8>,\n",
       " <tensorflow.python.keras.layers.core.Dense at 0x21d6bd32588>]"
      ]
     },
     "execution_count": 77,
     "metadata": {},
     "output_type": "execute_result"
    }
   ],
   "source": [
    "model.layers"
   ]
  },
  {
   "cell_type": "code",
   "execution_count": 78,
   "metadata": {},
   "outputs": [],
   "source": [
    "model.compile(loss=\"sparse_categorical_crossentropy\",\n",
    "              optimizer=\"sgd\",\n",
    "              metrics=[\"accuracy\"])"
   ]
  },
  {
   "cell_type": "code",
   "execution_count": 79,
   "metadata": {},
   "outputs": [
    {
     "name": "stdout",
     "output_type": "stream",
     "text": [
      "Train on 55000 samples, validate on 5000 samples\n",
      "Epoch 1/30\n",
      "55000/55000 [==============================] - 15s 265us/sample - loss: 1.0768 - accuracy: 0.6096 - val_loss: 0.5907 - val_accuracy: 0.7928\n",
      "Epoch 2/30\n",
      "55000/55000 [==============================] - 12s 220us/sample - loss: 0.7168 - accuracy: 0.7413 - val_loss: 0.4966 - val_accuracy: 0.8288\n",
      "Epoch 3/30\n",
      "55000/55000 [==============================] - 12s 216us/sample - loss: 0.6282 - accuracy: 0.7736 - val_loss: 0.4649 - val_accuracy: 0.8318\n",
      "Epoch 4/30\n",
      "55000/55000 [==============================] - 10s 174us/sample - loss: 0.5802 - accuracy: 0.7921 - val_loss: 0.4281 - val_accuracy: 0.8498\n",
      "Epoch 5/30\n",
      "55000/55000 [==============================] - 8s 146us/sample - loss: 0.5442 - accuracy: 0.8075 - val_loss: 0.4025 - val_accuracy: 0.8596\n",
      "Epoch 6/30\n",
      "55000/55000 [==============================] - 9s 168us/sample - loss: 0.5210 - accuracy: 0.8146 - val_loss: 0.4001 - val_accuracy: 0.8558\n",
      "Epoch 7/30\n",
      "55000/55000 [==============================] - 8s 144us/sample - loss: 0.5046 - accuracy: 0.8217 - val_loss: 0.3757 - val_accuracy: 0.8652\n",
      "Epoch 8/30\n",
      "55000/55000 [==============================] - 7s 129us/sample - loss: 0.4868 - accuracy: 0.8285 - val_loss: 0.3780 - val_accuracy: 0.8636\n",
      "Epoch 9/30\n",
      "55000/55000 [==============================] - 7s 136us/sample - loss: 0.4773 - accuracy: 0.8313 - val_loss: 0.3689 - val_accuracy: 0.8662\n",
      "Epoch 10/30\n",
      "55000/55000 [==============================] - 8s 154us/sample - loss: 0.4655 - accuracy: 0.8350 - val_loss: 0.3662 - val_accuracy: 0.8660\n",
      "Epoch 11/30\n",
      "55000/55000 [==============================] - 9s 161us/sample - loss: 0.4544 - accuracy: 0.8381 - val_loss: 0.3613 - val_accuracy: 0.8706\n",
      "Epoch 12/30\n",
      "55000/55000 [==============================] - 9s 168us/sample - loss: 0.4478 - accuracy: 0.8422 - val_loss: 0.3522 - val_accuracy: 0.8736\n",
      "Epoch 13/30\n",
      "55000/55000 [==============================] - 10s 180us/sample - loss: 0.4401 - accuracy: 0.8441 - val_loss: 0.3485 - val_accuracy: 0.8752\n",
      "Epoch 14/30\n",
      "55000/55000 [==============================] - 10s 177us/sample - loss: 0.4318 - accuracy: 0.8459 - val_loss: 0.3433 - val_accuracy: 0.8754\n",
      "Epoch 15/30\n",
      "55000/55000 [==============================] - 8s 154us/sample - loss: 0.4276 - accuracy: 0.8478 - val_loss: 0.3477 - val_accuracy: 0.8762\n",
      "Epoch 16/30\n",
      "55000/55000 [==============================] - 9s 170us/sample - loss: 0.4197 - accuracy: 0.8519 - val_loss: 0.3440 - val_accuracy: 0.8738\n",
      "Epoch 17/30\n",
      "55000/55000 [==============================] - 9s 166us/sample - loss: 0.4172 - accuracy: 0.8520 - val_loss: 0.3348 - val_accuracy: 0.8780\n",
      "Epoch 18/30\n",
      "55000/55000 [==============================] - 9s 162us/sample - loss: 0.4110 - accuracy: 0.8538 - val_loss: 0.3323 - val_accuracy: 0.8766\n",
      "Epoch 19/30\n",
      "55000/55000 [==============================] - 11s 192us/sample - loss: 0.4094 - accuracy: 0.8543 - val_loss: 0.3318 - val_accuracy: 0.8794\n",
      "Epoch 20/30\n",
      "55000/55000 [==============================] - 9s 160us/sample - loss: 0.4044 - accuracy: 0.8563 - val_loss: 0.3356 - val_accuracy: 0.8790\n",
      "Epoch 21/30\n",
      "55000/55000 [==============================] - 10s 174us/sample - loss: 0.3990 - accuracy: 0.8572 - val_loss: 0.3262 - val_accuracy: 0.8820\n",
      "Epoch 22/30\n",
      "55000/55000 [==============================] - 9s 170us/sample - loss: 0.3942 - accuracy: 0.8597 - val_loss: 0.3290 - val_accuracy: 0.8800\n",
      "Epoch 23/30\n",
      "55000/55000 [==============================] - 9s 156us/sample - loss: 0.3901 - accuracy: 0.8624 - val_loss: 0.3262 - val_accuracy: 0.8804\n",
      "Epoch 24/30\n",
      "55000/55000 [==============================] - 8s 149us/sample - loss: 0.3883 - accuracy: 0.8607 - val_loss: 0.3281 - val_accuracy: 0.8822\n",
      "Epoch 25/30\n",
      "55000/55000 [==============================] - 8s 144us/sample - loss: 0.3852 - accuracy: 0.8637 - val_loss: 0.3268 - val_accuracy: 0.8832\n",
      "Epoch 26/30\n",
      "55000/55000 [==============================] - 9s 166us/sample - loss: 0.3794 - accuracy: 0.8646 - val_loss: 0.3164 - val_accuracy: 0.8832\n",
      "Epoch 27/30\n",
      "55000/55000 [==============================] - 10s 184us/sample - loss: 0.3781 - accuracy: 0.8646 - val_loss: 0.3185 - val_accuracy: 0.8830\n",
      "Epoch 28/30\n",
      "55000/55000 [==============================] - 9s 162us/sample - loss: 0.3718 - accuracy: 0.8661 - val_loss: 0.3198 - val_accuracy: 0.8830\n",
      "Epoch 29/30\n",
      "55000/55000 [==============================] - 9s 166us/sample - loss: 0.3726 - accuracy: 0.8680 - val_loss: 0.3122 - val_accuracy: 0.8878\n",
      "Epoch 30/30\n",
      "55000/55000 [==============================] - 11s 196us/sample - loss: 0.3718 - accuracy: 0.8671 - val_loss: 0.3139 - val_accuracy: 0.8858\n"
     ]
    }
   ],
   "source": [
    "history8 = model.fit(X_train, y_train, batch_size=32, epochs=30,\n",
    "                    validation_data=(X_valid, y_valid))"
   ]
  },
  {
   "cell_type": "code",
   "execution_count": 80,
   "metadata": {},
   "outputs": [
    {
     "name": "stdout",
     "output_type": "stream",
     "text": [
      "10000/10000 [==============================] - 2s 155us/sample - loss: 0.3538 - accuracy: 0.8750\n"
     ]
    }
   ],
   "source": [
    "model = model.evaluate(X_test, y_test)"
   ]
  },
  {
   "cell_type": "code",
   "execution_count": 81,
   "metadata": {},
   "outputs": [
    {
     "data": {
      "image/png": "[encoded data removed]",
      "text/plain": [
       "<Figure size 576x360 with 1 Axes>"
      ]
     },
     "metadata": {
      "needs_background": "light"
     },
     "output_type": "display_data"
    }
   ],
   "source": [
    "pd.DataFrame(history8.history).plot(figsize=(8, 5))\n",
    "plt.grid(True)\n",
    "plt.gca().set_ylim(0, 1)\n",
    "plt.show()"
   ]
  },
  {
   "cell_type": "markdown",
   "metadata": {},
   "source": [
    "# 5) apply on different datasets"
   ]
  },
  {
   "cell_type": "code",
   "execution_count": null,
   "metadata": {},
   "outputs": [],
   "source": []
  },
  {
   "cell_type": "code",
   "execution_count": null,
   "metadata": {},
   "outputs": [],
   "source": []
  },
  {
   "cell_type": "code",
   "execution_count": null,
   "metadata": {},
   "outputs": [],
   "source": []
  },
  {
   "cell_type": "code",
   "execution_count": null,
   "metadata": {},
   "outputs": [],
   "source": []
  },
  {
   "cell_type": "code",
   "execution_count": null,
   "metadata": {},
   "outputs": [],
   "source": []
  },
  {
   "cell_type": "code",
   "execution_count": null,
   "metadata": {},
   "outputs": [],
   "source": []
  }
 ],
 "metadata": {
  "kernelspec": {
   "display_name": "Python 3",
   "language": "python",
   "name": "python3"
  },
  "language_info": {
   "codemirror_mode": {
    "name": "ipython",
    "version": 3
   },
   "file_extension": ".py",
   "mimetype": "text/x-python",
   "name": "python",
   "nbconvert_exporter": "python",
   "pygments_lexer": "ipython3",
   "version": "3.7.4"
  },
  "nav_menu": {
   "height": "264px",
   "width": "369px"
  },
  "toc": {
   "navigate_menu": true,
   "number_sections": true,
   "sideBar": true,
   "threshold": 6,
   "toc_cell": false,
   "toc_section_display": "block",
   "toc_window_display": false
  }
 },
 "nbformat": 4,
 "nbformat_minor": 1
}
